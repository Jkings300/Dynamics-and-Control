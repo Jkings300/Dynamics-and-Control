{
 "cells": [
  {
   "cell_type": "markdown",
   "metadata": {},
   "source": [
    "## Dahlin controller\n",
    "\n",
    "We will replicate the controller output in figure 17.11a. This notebook has a [video commentary](https://youtu.be/7c-f-6pMgt4)."
   ]
  },
  {
   "cell_type": "code",
   "execution_count": 1,
   "metadata": {},
   "outputs": [],
   "source": [
    "import sympy\n",
    "sympy.init_printing()\n",
    "import tbcontrol\n",
    "tbcontrol.expectversion('0.1.3')"
   ]
  },
  {
   "cell_type": "markdown",
   "metadata": {},
   "source": [
    "Discretise the system\n",
    "--------------------------------"
   ]
  },
  {
   "cell_type": "markdown",
   "metadata": {},
   "source": [
    "We need to find the corresponding z transform of the hold element and the system. Since $H=1/s(1 - e^{-Ts})$, we can find $F=G/s$, from there $f(t)$ and then work out the $z$ transform"
   ]
  },
  {
   "cell_type": "code",
   "execution_count": 2,
   "metadata": {},
   "outputs": [
    {
     "data": {
      "image/png": "[encoded data removed]",
      "text/latex": [
       "$$\\frac{1}{15 s^{2} + 8 s + 1}$$"
      ],
      "text/plain": [
       "       1       \n",
       "───────────────\n",
       "    2          \n",
       "15⋅s  + 8⋅s + 1"
      ]
     },
     "execution_count": 2,
     "metadata": {},
     "output_type": "execute_result"
    }
   ],
   "source": [
    "s, t = sympy.symbols('s, t')\n",
    "Gs = 1/(15*s**2 + 8*s + 1)\n",
    "Gs"
   ]
  },
  {
   "cell_type": "code",
   "execution_count": 3,
   "metadata": {},
   "outputs": [
    {
     "data": {
      "image/png": "[encoded data removed]",
      "text/latex": [
       "$$\\theta\\left(t\\right) + \\frac{3 e^{- \\frac{t}{3}} \\theta\\left(t\\right)}{2} - \\frac{5 e^{- \\frac{t}{5}} \\theta\\left(t\\right)}{2}$$"
      ],
      "text/plain": [
       "                  -t                    -t              \n",
       "                  ───                   ───             \n",
       "                   3                     5              \n",
       "               3⋅ℯ   ⋅Heaviside(t)   5⋅ℯ   ⋅Heaviside(t)\n",
       "Heaviside(t) + ─────────────────── - ───────────────────\n",
       "                        2                     2         "
      ]
     },
     "execution_count": 3,
     "metadata": {},
     "output_type": "execute_result"
    }
   ],
   "source": [
    "f = sympy.inverse_laplace_transform(Gs/s, s, t).simplify()\n",
    "sympy.nsimplify(sympy.N(f)).simplify()"
   ]
  },
  {
   "cell_type": "markdown",
   "metadata": {},
   "source": [
    "We can see that $f(t)$ is the sum of 1 and two exponentials. It is easy to determine the corresponding z transforms from the table\n",
    "\n",
    "| Time domain | Laplace-transform | z-transform ($b=e^{-aT}$) |\n",
    "|-------------|-------------------|---------------------------|\n",
    "|$e^{-at}$    | $\\frac{1}{s+a}$   | $\\frac{1}{1-bz^{-1}}$     |\n"
   ]
  },
  {
   "cell_type": "code",
   "execution_count": 4,
   "metadata": {},
   "outputs": [],
   "source": [
    "z, q = sympy.symbols('z, q')"
   ]
  },
  {
   "cell_type": "markdown",
   "metadata": {},
   "source": [
    "Now the sampling interval"
   ]
  },
  {
   "cell_type": "code",
   "execution_count": 5,
   "metadata": {},
   "outputs": [],
   "source": [
    "T = 1 # Sampling interval"
   ]
  },
  {
   "cell_type": "code",
   "execution_count": 5,
   "metadata": {},
   "outputs": [],
   "source": [
    "def expz(a):\n",
    "    b = sympy.exp(-a*T)\n",
    "    return 1/(1 - b*z**-1)"
   ]
  },
  {
   "cell_type": "code",
   "execution_count": 6,
   "metadata": {},
   "outputs": [],
   "source": [
    "Fz = -5/2*expz(1/5)  + 3/2*expz(1/3) + 1/(1 - z**-1)"
   ]
  },
  {
   "cell_type": "code",
   "execution_count": 7,
   "metadata": {},
   "outputs": [
    {
     "data": {
      "image/png": "[encoded data removed]",
      "text/latex": [
       "$$\\frac{1.5}{1 - \\frac{0.716531310573789}{z}} - \\frac{2.5}{1 - \\frac{0.818730753077982}{z}} + \\frac{1}{1 - \\frac{1}{z}}$$"
      ],
      "text/plain": [
       "         1.5                     2.5              1  \n",
       "───────────────────── - ───────────────────── + ─────\n",
       "    0.716531310573789       0.818730753077982       1\n",
       "1 - ─────────────────   1 - ─────────────────   1 - ─\n",
       "            z                       z               z"
      ]
     },
     "execution_count": 7,
     "metadata": {},
     "output_type": "execute_result"
    }
   ],
   "source": [
    "Fz"
   ]
  },
  {
   "cell_type": "markdown",
   "metadata": {},
   "source": [
    "Let's see if we did that right"
   ]
  },
  {
   "cell_type": "code",
   "execution_count": 8,
   "metadata": {},
   "outputs": [],
   "source": [
    "import tbcontrol.symbolic"
   ]
  },
  {
   "cell_type": "code",
   "execution_count": 9,
   "metadata": {},
   "outputs": [],
   "source": [
    "def plotdiscrete(fz, N):\n",
    "    values = tbcontrol.symbolic.sampledvalues(fz, z, N)\n",
    "    times = [n*T for n in range(N)]\n",
    "    plt.stem(times, values)"
   ]
  },
  {
   "cell_type": "code",
   "execution_count": 10,
   "metadata": {},
   "outputs": [],
   "source": [
    "import matplotlib.pyplot as plt\n",
    "%matplotlib inline"
   ]
  },
  {
   "cell_type": "code",
   "execution_count": 11,
   "metadata": {},
   "outputs": [],
   "source": [
    "import numpy"
   ]
  },
  {
   "cell_type": "code",
   "execution_count": 12,
   "metadata": {},
   "outputs": [],
   "source": [
    "ts = numpy.linspace(0, 10, 300)"
   ]
  },
  {
   "cell_type": "code",
   "execution_count": 13,
   "metadata": {},
   "outputs": [
    {
     "data": {
      "text/plain": [
       "[<matplotlib.lines.Line2D at 0x1205b3ef0>]"
      ]
     },
     "execution_count": 13,
     "metadata": {},
     "output_type": "execute_result"
    },
    {
     "data": {
      "image/png": "[encoded data removed]",
      "text/plain": [
       "<Figure size 432x288 with 1 Axes>"
      ]
     },
     "metadata": {
      "needs_background": "light"
     },
     "output_type": "display_data"
    }
   ],
   "source": [
    "plotdiscrete(Fz, 10)\n",
    "plt.plot(ts, tbcontrol.symbolic.evaluate_at_times(f, t, ts))"
   ]
  },
  {
   "cell_type": "markdown",
   "metadata": {},
   "source": [
    "Here is the transform of the system and the hold element. See the [Discrete control](Discrete%20control.ipynb) notebook for the derivation."
   ]
  },
  {
   "cell_type": "code",
   "execution_count": 14,
   "metadata": {},
   "outputs": [],
   "source": [
    "HG_z = Fz*(1 - z**-1)"
   ]
  },
  {
   "cell_type": "markdown",
   "metadata": {},
   "source": [
    "Dahlin Controller\n",
    "-----------------\n",
    "\n",
    "The desired closed loop response is first order"
   ]
  },
  {
   "cell_type": "code",
   "execution_count": 15,
   "metadata": {},
   "outputs": [],
   "source": [
    "θ = 0 # system dead time \n",
    "λ = 1 # Dahlin's lambda\n",
    "h = θ # Dahlin's h"
   ]
  },
  {
   "cell_type": "markdown",
   "metadata": {},
   "source": [
    "First order response in eq 17-63"
   ]
  },
  {
   "cell_type": "code",
   "execution_count": 16,
   "metadata": {},
   "outputs": [],
   "source": [
    "N = θ/T\n",
    "A = sympy.exp(-T/λ)\n",
    "yclz = (1 - A)*z**(-N-1)/(1 - A*z**-1)"
   ]
  },
  {
   "cell_type": "code",
   "execution_count": 17,
   "metadata": {},
   "outputs": [],
   "source": [
    "K = (1/HG_z*yclz/(1 - yclz)).simplify()"
   ]
  },
  {
   "cell_type": "code",
   "execution_count": 18,
   "metadata": {},
   "outputs": [
    {
     "data": {
      "image/png": "[encoded data removed]",
      "text/latex": [
       "$$\\frac{1.0 \\left(0.632120558828558 z^{2} - 0.970470713623842 z + 0.370831136111342\\right)}{0.0279700831657292 z^{2} - 0.00455601047319787 z - 0.0234140726925314}$$"
      ],
      "text/plain": [
       "    ⎛                   2                                          ⎞\n",
       "1.0⋅⎝0.632120558828558⋅z  - 0.970470713623842⋅z + 0.370831136111342⎠\n",
       "────────────────────────────────────────────────────────────────────\n",
       "                     2                                              \n",
       " 0.0279700831657292⋅z  - 0.00455601047319787⋅z - 0.0234140726925314 "
      ]
     },
     "execution_count": 18,
     "metadata": {},
     "output_type": "execute_result"
    }
   ],
   "source": [
    "K"
   ]
  },
  {
   "cell_type": "code",
   "execution_count": 19,
   "metadata": {},
   "outputs": [],
   "source": [
    "#K = 0.632/(1 - z*-1) * (1 - 1.5353*z**-1 + 0.5866*z**-2)/(0.028 + 0.0234*z**-1)"
   ]
  },
  {
   "cell_type": "markdown",
   "metadata": {},
   "source": [
    "We will model the control response to a unit step in reference signal"
   ]
  },
  {
   "cell_type": "code",
   "execution_count": 20,
   "metadata": {},
   "outputs": [],
   "source": [
    "rz = 1/(1 - z**-1) # unit step in z"
   ]
  },
  {
   "cell_type": "markdown",
   "metadata": {},
   "source": [
    "Now we can calculate the z-domain version of the controller output"
   ]
  },
  {
   "cell_type": "code",
   "execution_count": 21,
   "metadata": {},
   "outputs": [],
   "source": [
    "uz = K/(1 + K*HG_z)*rz"
   ]
  },
  {
   "cell_type": "code",
   "execution_count": 22,
   "metadata": {},
   "outputs": [],
   "source": [
    "N = 10"
   ]
  },
  {
   "cell_type": "code",
   "execution_count": 23,
   "metadata": {},
   "outputs": [
    {
     "data": {
      "image/png": "[encoded data removed]",
      "text/plain": [
       "<Figure size 432x288 with 1 Axes>"
      ]
     },
     "metadata": {
      "needs_background": "light"
     },
     "output_type": "display_data"
    }
   ],
   "source": [
    "plotdiscrete(uz, N)"
   ]
  },
  {
   "cell_type": "markdown",
   "metadata": {},
   "source": [
    "This oscillating controller output is known as \"ringing\". It is an undesirable effect."
   ]
  },
  {
   "cell_type": "markdown",
   "metadata": {},
   "source": [
    "Continuous response\n",
    "-------------------\n",
    "\n",
    "By design the controlled variable follows an exponential at the sampling points."
   ]
  },
  {
   "cell_type": "code",
   "execution_count": 24,
   "metadata": {},
   "outputs": [],
   "source": [
    "yz = K*HG_z/(1 + K*HG_z)*rz"
   ]
  },
  {
   "cell_type": "code",
   "execution_count": 25,
   "metadata": {},
   "outputs": [
    {
     "data": {
      "text/plain": [
       "[<matplotlib.lines.Line2D at 0x120c51390>]"
      ]
     },
     "execution_count": 25,
     "metadata": {},
     "output_type": "execute_result"
    },
    {
     "data": {
      "image/png": "[encoded data removed]",
      "text/plain": [
       "<Figure size 432x288 with 1 Axes>"
      ]
     },
     "metadata": {
      "needs_background": "light"
     },
     "output_type": "display_data"
    }
   ],
   "source": [
    "plotdiscrete(yz, N)\n",
    "plt.plot(ts, 1 - numpy.exp(-ts/λ))"
   ]
  },
  {
   "cell_type": "markdown",
   "metadata": {},
   "source": [
    "But what does it really look like between data points? First, let's construct the response of the system to a single sampling time length pulse input"
   ]
  },
  {
   "cell_type": "code",
   "execution_count": 26,
   "metadata": {},
   "outputs": [],
   "source": [
    "p = f - f.subs(t, t-T)"
   ]
  },
  {
   "cell_type": "markdown",
   "metadata": {},
   "source": [
    "Note that there is a slight issue with finding the value of this function at zero, so we avoid that point in plotting by starting at some small value which is not zero."
   ]
  },
  {
   "cell_type": "code",
   "execution_count": 27,
   "metadata": {},
   "outputs": [],
   "source": [
    "smallvalue = 0.001"
   ]
  },
  {
   "cell_type": "code",
   "execution_count": 28,
   "metadata": {},
   "outputs": [
    {
     "data": {
      "image/png": "[encoded data removed]",
      "text/plain": [
       "<Figure size 432x288 with 1 Axes>"
      ]
     },
     "metadata": {
      "needs_background": "light"
     },
     "output_type": "display_data"
    },
    {
     "data": {
      "text/plain": [
       "<sympy.plotting.plot.Plot at 0x1209627f0>"
      ]
     },
     "execution_count": 28,
     "metadata": {},
     "output_type": "execute_result"
    }
   ],
   "source": [
    "sympy.plot(p, (t, smallvalue, 10))"
   ]
  },
  {
   "cell_type": "markdown",
   "metadata": {},
   "source": [
    "Let's get the values of the controller output as a list:"
   ]
  },
  {
   "cell_type": "code",
   "execution_count": 29,
   "metadata": {},
   "outputs": [],
   "source": [
    "u = tbcontrol.symbolic.sampledvalues(uz, z, N)"
   ]
  },
  {
   "cell_type": "markdown",
   "metadata": {},
   "source": [
    "Now, we calculate the output of the system as the sum of the various pulse inputs."
   ]
  },
  {
   "cell_type": "code",
   "execution_count": 30,
   "metadata": {},
   "outputs": [],
   "source": [
    "yt = numpy.zeros_like(ts)\n",
    "for i in range(0, N):\n",
    "    yt += [float(sympy.N(u[i]*p.subs(t, ti-i + smallvalue))) for ti in ts]"
   ]
  },
  {
   "cell_type": "markdown",
   "metadata": {},
   "source": [
    "Finally, we present the discrete system response, the designed response and the analytical continuous response on the same graph."
   ]
  },
  {
   "cell_type": "code",
   "execution_count": 31,
   "metadata": {},
   "outputs": [
    {
     "data": {
      "text/plain": [
       "[<matplotlib.lines.Line2D at 0x12126f8d0>]"
      ]
     },
     "execution_count": 31,
     "metadata": {},
     "output_type": "execute_result"
    },
    {
     "data": {
      "image/png": "[encoded data removed]",
      "text/plain": [
       "<Figure size 432x288 with 1 Axes>"
      ]
     },
     "metadata": {
      "needs_background": "light"
     },
     "output_type": "display_data"
    }
   ],
   "source": [
    "plotdiscrete(yz, 10)\n",
    "plt.plot(ts, 1 - numpy.exp(-ts/λ))\n",
    "plt.plot(ts, yt)"
   ]
  },
  {
   "cell_type": "code",
   "execution_count": null,
   "metadata": {},
   "outputs": [],
   "source": []
  }
 ],
 "metadata": {
  "anaconda-cloud": {},
  "kernelspec": {
   "display_name": "Python 3",
   "language": "python",
   "name": "python3"
  },
  "language_info": {
   "codemirror_mode": {
    "name": "ipython",
    "version": 3
   },
   "file_extension": ".py",
   "mimetype": "text/x-python",
   "name": "python",
   "nbconvert_exporter": "python",
   "pygments_lexer": "ipython3",
   "version": "3.7.3"
  }
 },
 "nbformat": 4,
 "nbformat_minor": 2
}
